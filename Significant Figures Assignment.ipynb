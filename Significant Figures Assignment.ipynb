{
 "cells": [
  {
   "attachments": {},
   "cell_type": "markdown",
   "metadata": {},
   "source": [
    "# Significant Figures Assignment\n",
    "__Author__ : Mohammad H. Langarizadeh\n",
    "\n",
    "__Student ID__ : 99222120\n",
    "\n",
    "__Course__ : Undergraduate Numerical Analysis Course"
   ]
  },
  {
   "attachments": {},
   "cell_type": "markdown",
   "metadata": {},
   "source": [
    "## Question 1\n",
    "Assume we use $f(x) = x(√x + 1 −√x)$ for computing error of losing significant figures for big $xs$. Compute errors for six figures.\n",
    "\n",
    "Point : create a table like this.\n",
    "\n",
    "$x$      |  Exact  |  Approximate  |  Exact Error   |  Related Error  | Sum Transformation\n",
    "\n",
    "1 \n",
    "\n",
    "10\n",
    "\n",
    "100\n",
    "\n",
    "1000\n",
    "\n",
    "10000\n",
    "\n",
    "100000"
   ]
  },
  {
   "cell_type": "code",
   "execution_count": 1,
   "metadata": {},
   "outputs": [],
   "source": [
    "import numpy as np \n",
    "import pandas as pd\n",
    "import matplotlib.pyplot as plt"
   ]
  },
  {
   "cell_type": "code",
   "execution_count": 3,
   "metadata": {},
   "outputs": [],
   "source": [
    "\n",
    "def function(x):\n",
    "    return x * (np.sqrt(x + 1) - np.sqrt(x))\n"
   ]
  },
  {
   "cell_type": "code",
   "execution_count": 6,
   "metadata": {},
   "outputs": [],
   "source": [
    "X = [1, 10, 100, 1000, 10000, 100000]\n",
    "exact, approximate, exact_error, relative_error  = [], [], [], []\n",
    "\n",
    "\n",
    "for i in X:\n",
    "    exact.append(function(i))\n",
    "    approximate.append(round(i * (round(np.sqrt(i + 1), 6) - round(np.sqrt(i), 6)), 6))\n",
    "    exact_error.append(round(np.abs(exact[-1] - approximate[-1]), 6))\n",
    "    relative_error.append(round(np.abs(exact[-1] - approximate[-1]) / np.abs(exact[-1]), 6))"
   ]
  },
  {
   "cell_type": "code",
   "execution_count": 7,
   "metadata": {},
   "outputs": [
    {
     "data": {
      "text/html": [
       "<div>\n",
       "<style scoped>\n",
       "    .dataframe tbody tr th:only-of-type {\n",
       "        vertical-align: middle;\n",
       "    }\n",
       "\n",
       "    .dataframe tbody tr th {\n",
       "        vertical-align: top;\n",
       "    }\n",
       "\n",
       "    .dataframe thead th {\n",
       "        text-align: right;\n",
       "    }\n",
       "</style>\n",
       "<table border=\"1\" class=\"dataframe\">\n",
       "  <thead>\n",
       "    <tr style=\"text-align: right;\">\n",
       "      <th></th>\n",
       "      <th>Exact</th>\n",
       "      <th>Approximate</th>\n",
       "      <th>ExactError</th>\n",
       "      <th>RelativeError</th>\n",
       "    </tr>\n",
       "  </thead>\n",
       "  <tbody>\n",
       "    <tr>\n",
       "      <th>1</th>\n",
       "      <td>0.414214</td>\n",
       "      <td>0.414214</td>\n",
       "      <td>0.000000</td>\n",
       "      <td>0.000001</td>\n",
       "    </tr>\n",
       "    <tr>\n",
       "      <th>10</th>\n",
       "      <td>1.543471</td>\n",
       "      <td>1.543470</td>\n",
       "      <td>0.000001</td>\n",
       "      <td>0.000001</td>\n",
       "    </tr>\n",
       "    <tr>\n",
       "      <th>100</th>\n",
       "      <td>4.987562</td>\n",
       "      <td>4.987600</td>\n",
       "      <td>0.000038</td>\n",
       "      <td>0.000008</td>\n",
       "    </tr>\n",
       "    <tr>\n",
       "      <th>1000</th>\n",
       "      <td>15.807437</td>\n",
       "      <td>15.807000</td>\n",
       "      <td>0.000437</td>\n",
       "      <td>0.000028</td>\n",
       "    </tr>\n",
       "    <tr>\n",
       "      <th>10000</th>\n",
       "      <td>49.998750</td>\n",
       "      <td>50.000000</td>\n",
       "      <td>0.001250</td>\n",
       "      <td>0.000025</td>\n",
       "    </tr>\n",
       "    <tr>\n",
       "      <th>100000</th>\n",
       "      <td>158.113488</td>\n",
       "      <td>158.100000</td>\n",
       "      <td>0.013488</td>\n",
       "      <td>0.000085</td>\n",
       "    </tr>\n",
       "  </tbody>\n",
       "</table>\n",
       "</div>"
      ],
      "text/plain": [
       "             Exact  Approximate  ExactError  RelativeError\n",
       "1         0.414214     0.414214    0.000000       0.000001\n",
       "10        1.543471     1.543470    0.000001       0.000001\n",
       "100       4.987562     4.987600    0.000038       0.000008\n",
       "1000     15.807437    15.807000    0.000437       0.000028\n",
       "10000    49.998750    50.000000    0.001250       0.000025\n",
       "100000  158.113488   158.100000    0.013488       0.000085"
      ]
     },
     "execution_count": 7,
     "metadata": {},
     "output_type": "execute_result"
    }
   ],
   "source": [
    "results = pd.DataFrame()\n",
    "results.index = X\n",
    "results['Exact'] = exact\n",
    "results['Approximate'] = approximate\n",
    "results['ExactError'] = exact_error\n",
    "results['RelativeError'] = relative_error\n",
    "results"
   ]
  },
  {
   "attachments": {},
   "cell_type": "markdown",
   "metadata": {},
   "source": [
    "## Question 2\n",
    "A) Compute rounding of $√2,√3$ and $√23$ with three precise figures.\n",
    "\n",
    "B) Compute rounding of $√2,√3$ and $√23$ with four precise figures.\n",
    "\n",
    "C) Compute Error for each of them in above sections\n",
    "\n",
    "D) Consider we use $f(x) = (1−cos x)/x^2$ for computing error of losing significant figures for small $xs$.\n",
    "\n",
    "Point : create a table like this.\n",
    "\n",
    "$x$      |  Exact  |  Approximate(4 figures)  |  Exact Error   |  Related Error  | Sum Transformation\n",
    "\n",
    "1 \n",
    "\n",
    "0.1\n",
    "\n",
    "0.01\n",
    "\n",
    "0.001\n",
    "\n",
    "0.0001\n",
    "\n",
    "0.00001"
   ]
  },
  {
   "attachments": {},
   "cell_type": "markdown",
   "metadata": {},
   "source": [
    "Part A"
   ]
  },
  {
   "cell_type": "code",
   "execution_count": 18,
   "metadata": {},
   "outputs": [],
   "source": [
    "\n",
    "# Rounding with three precise figures\n",
    "sqrt_2 = round(math.sqrt(2), 3)\n",
    "sqrt_3 = round(math.sqrt(3), 3)\n",
    "sqrt_23 = round(math.sqrt(23), 3)\n"
   ]
  },
  {
   "cell_type": "code",
   "execution_count": 19,
   "metadata": {},
   "outputs": [
    {
     "name": "stdout",
     "output_type": "stream",
     "text": [
      "Square roots with three precise figures:\n",
      "sqrt(2) = 1.414\n",
      "sqrt(3) = 1.732\n",
      "sqrt(23) = 4.796\n"
     ]
    }
   ],
   "source": [
    "\n",
    "# Print the results\n",
    "print(\"Square roots with three precise figures:\")\n",
    "print(f\"sqrt(2) = {sqrt_2}\")\n",
    "print(f\"sqrt(3) = {sqrt_3}\")\n",
    "print(f\"sqrt(23) = {sqrt_23}\")\n"
   ]
  },
  {
   "attachments": {},
   "cell_type": "markdown",
   "metadata": {},
   "source": [
    "Part B"
   ]
  },
  {
   "cell_type": "code",
   "execution_count": 20,
   "metadata": {},
   "outputs": [],
   "source": [
    "\n",
    "# Compute the square roots\n",
    "sqrt_2 = math.sqrt(2)\n",
    "sqrt_3 = math.sqrt(3)\n",
    "sqrt_23 = math.sqrt(23)\n"
   ]
  },
  {
   "cell_type": "code",
   "execution_count": 21,
   "metadata": {},
   "outputs": [],
   "source": [
    "\n",
    "# Round to four significant figures\n",
    "round_2 = round(sqrt_2, 3)\n",
    "round_3 = round(sqrt_3, 3)\n",
    "round_23 = round(sqrt_23, 3)\n"
   ]
  },
  {
   "cell_type": "code",
   "execution_count": 22,
   "metadata": {},
   "outputs": [
    {
     "name": "stdout",
     "output_type": "stream",
     "text": [
      "Square root of 2: 1.4140\n",
      "Square root of 3: 1.7320\n",
      "Square root of 23: 4.7960\n"
     ]
    }
   ],
   "source": [
    "\n",
    "# Print the results\n",
    "print(\"Square root of 2: {:.4f}\".format(round_2))\n",
    "print(\"Square root of 3: {:.4f}\".format(round_3))\n",
    "print(\"Square root of 23: {:.4f}\".format(round_23))\n"
   ]
  },
  {
   "attachments": {},
   "cell_type": "markdown",
   "metadata": {},
   "source": [
    "Part C"
   ]
  },
  {
   "cell_type": "code",
   "execution_count": 24,
   "metadata": {},
   "outputs": [],
   "source": [
    "\n",
    "# compute rounding with three precise figures\n",
    "root2_3p = round(math.sqrt(2), 3)\n",
    "root3_3p = round(math.sqrt(3), 3)\n",
    "root23_3p = round(math.sqrt(23), 3)\n"
   ]
  },
  {
   "cell_type": "code",
   "execution_count": 25,
   "metadata": {},
   "outputs": [],
   "source": [
    "\n",
    "# compute rounding with four precise figures\n",
    "root2_4p = round(math.sqrt(2), 4)\n",
    "root3_4p = round(math.sqrt(3), 4)\n",
    "root23_4p = round(math.sqrt(23), 4)\n"
   ]
  },
  {
   "cell_type": "code",
   "execution_count": 26,
   "metadata": {},
   "outputs": [],
   "source": [
    "\n",
    "# compute errors\n",
    "error_3p_root2 = abs(math.sqrt(2) - root2_3p)\n",
    "error_3p_root3 = abs(math.sqrt(3) - root3_3p)\n",
    "error_3p_root23 = abs(math.sqrt(23) - root23_3p)\n",
    "\n",
    "error_4p_root2 = abs(math.sqrt(2) - root2_4p)\n",
    "error_4p_root3 = abs(math.sqrt(3) - root3_4p)\n",
    "error_4p_root23 = abs(math.sqrt(23) - root23_4p)\n"
   ]
  },
  {
   "cell_type": "code",
   "execution_count": 27,
   "metadata": {},
   "outputs": [
    {
     "name": "stdout",
     "output_type": "stream",
     "text": [
      "Rounding with three precise figures:\n",
      "√2: 1.414 (error: 0.00021356237309522186)\n",
      "√3: 1.732 (error: 5.0807568877209164e-05)\n",
      "√23: 4.796 (error: 0.0001684766872811494)\n",
      "\n",
      "Rounding with four precise figures:\n",
      "√2: 1.4142 (error: 1.3562373095243885e-05)\n",
      "√3: 1.7321 (error: 4.919243112277982e-05)\n",
      "√23: 4.7958 (error: 3.152331271927267e-05)\n"
     ]
    }
   ],
   "source": [
    "\n",
    "# print results\n",
    "print(\"Rounding with three precise figures:\")\n",
    "print(\"√2: {} (error: {})\".format(root2_3p, error_3p_root2))\n",
    "print(\"√3: {} (error: {})\".format(root3_3p, error_3p_root3))\n",
    "print(\"√23: {} (error: {})\".format(root23_3p, error_3p_root23))\n",
    "\n",
    "print(\"\\nRounding with four precise figures:\")\n",
    "print(\"√2: {} (error: {})\".format(root2_4p, error_4p_root2))\n",
    "print(\"√3: {} (error: {})\".format(root3_4p, error_4p_root3))\n",
    "print(\"√23: {} (error: {})\".format(root23_4p, error_4p_root23))\n"
   ]
  },
  {
   "attachments": {},
   "cell_type": "markdown",
   "metadata": {},
   "source": [
    "Part D"
   ]
  },
  {
   "cell_type": "code",
   "execution_count": 28,
   "metadata": {},
   "outputs": [
    {
     "name": "stdout",
     "output_type": "stream",
     "text": [
      "x        Exact           Approximate(4digit)     Exact Error        Related Error      Sum Transformation     \n",
      "----------------------------------------------------------------------------------------------------\n",
      "1        0.459698        0.459698                0.000000           0.000000           1.500000               \n",
      "10       0.018391        0.018391                0.000000           0.000000           0.510000               \n",
      "100      0.000014        0.000014                0.000000           0.000000           0.500100               \n",
      "1000     0.000000        0.000000                0.000000           0.000000           0.500001               \n",
      "10000    0.000000        0.000000                0.000000           0.000000           0.500000               \n",
      "100000   0.000000        0.000000                0.000000           0.000000           0.500000               \n"
     ]
    }
   ],
   "source": [
    "\n",
    "def f(x):\n",
    "    return (1 - math.cos(x)) / (x ** 2)\n",
    "\n",
    "print(\"{:<8} {:<15} {:<23} {:<18} {:<18} {:<23}\".format(\"x\", \"Exact\", \"Approximate(4digit)\", \"Exact Error\", \"Related Error\", \"Sum Transformation\"))\n",
    "print(\"-\" * 100)\n",
    "\n",
    "for x in [1, 10, 100, 1000, 10000, 100000]:\n",
    "    exact = f(x)\n",
    "    approximate = (1 - math.cos(x)) / (x ** 2)\n",
    "    exact_error = abs(exact - approximate)\n",
    "    related_error = exact_error / abs(exact)\n",
    "    sum_transformation = (1 + (x ** 2 / 2)) / (x ** 2)\n",
    "    \n",
    "    print(\"{:<8} {:<15.6f} {:<23.6f} {:<18.6f} {:<18.6f} {:<23.6f}\".format(x, exact, approximate, exact_error, related_error, sum_transformation))\n"
   ]
  }
 ],
 "metadata": {
  "kernelspec": {
   "display_name": "Python 3",
   "language": "python",
   "name": "python3"
  },
  "language_info": {
   "codemirror_mode": {
    "name": "ipython",
    "version": 3
   },
   "file_extension": ".py",
   "mimetype": "text/x-python",
   "name": "python",
   "nbconvert_exporter": "python",
   "pygments_lexer": "ipython3",
   "version": "3.10.10"
  },
  "orig_nbformat": 4,
  "vscode": {
   "interpreter": {
    "hash": "a0e4d50838a237280a9d712c48dc9b7923298659ee07e7a2461a953b682a8d53"
   }
  }
 },
 "nbformat": 4,
 "nbformat_minor": 2
}
