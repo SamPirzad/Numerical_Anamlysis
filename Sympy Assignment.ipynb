{
 "cells": [
  {
   "attachments": {},
   "cell_type": "markdown",
   "metadata": {},
   "source": [
    "# Sympy Assignment\n",
    "__Author__ : Mohammad H. Langarizadeh  \n",
    "__Student ID__ : 99222120\n",
    "\n",
    "__Course__ : Undergraduate Numerical Analysis Course"
   ]
  },
  {
   "attachments": {},
   "cell_type": "markdown",
   "metadata": {},
   "source": [
    "## Problem 1\n",
    "Symbolic Differentiation\n",
    "\n",
    "Find the derivative of the following functions using Sympy:\n",
    "\n",
    "a) $f(x) = x^3 − 2x^2 + 5x − 7$\n",
    "\n",
    "b) $g(x) = 1/(x^2+1)$\n",
    "\n",
    "c) $h(x) = e^(2x) * cos(x)$\n",
    "\n",
    "\n"
   ]
  },
  {
   "cell_type": "code",
   "execution_count": 45,
   "metadata": {},
   "outputs": [],
   "source": [
    "import sympy as sp\n",
    "from sympy import *"
   ]
  },
  {
   "attachments": {},
   "cell_type": "markdown",
   "metadata": {},
   "source": [
    "Defining the symbols"
   ]
  },
  {
   "cell_type": "code",
   "execution_count": 46,
   "metadata": {},
   "outputs": [],
   "source": [
    "x = sp.Symbol('x')"
   ]
  },
  {
   "attachments": {},
   "cell_type": "markdown",
   "metadata": {},
   "source": [
    "Defining the functions"
   ]
  },
  {
   "cell_type": "code",
   "execution_count": 47,
   "metadata": {},
   "outputs": [],
   "source": [
    "f = x**3 - 2*x**2 + 5*x - 7\n",
    "g = 1/(x**2 + 1)\n",
    "h = sp.exp(2*x) * sp.cos(x)"
   ]
  },
  {
   "attachments": {},
   "cell_type": "markdown",
   "metadata": {},
   "source": [
    "Finding the derivatives"
   ]
  },
  {
   "cell_type": "code",
   "execution_count": 48,
   "metadata": {},
   "outputs": [],
   "source": [
    "f_prime = sp.diff(f, x)\n",
    "g_prime = sp.diff(g, x)\n",
    "h_prime = sp.diff(h, x)"
   ]
  },
  {
   "attachments": {},
   "cell_type": "markdown",
   "metadata": {},
   "source": [
    "Results"
   ]
  },
  {
   "cell_type": "code",
   "execution_count": 49,
   "metadata": {},
   "outputs": [
    {
     "data": {
      "text/latex": [
       "$\\displaystyle 3 x^{2} - 4 x + 5$"
      ],
      "text/plain": [
       "3*x**2 - 4*x + 5"
      ]
     },
     "execution_count": 49,
     "metadata": {},
     "output_type": "execute_result"
    }
   ],
   "source": [
    "f_prime"
   ]
  },
  {
   "cell_type": "code",
   "execution_count": 50,
   "metadata": {},
   "outputs": [
    {
     "data": {
      "text/latex": [
       "$\\displaystyle - \\frac{2 x}{\\left(x^{2} + 1\\right)^{2}}$"
      ],
      "text/plain": [
       "-2*x/(x**2 + 1)**2"
      ]
     },
     "execution_count": 50,
     "metadata": {},
     "output_type": "execute_result"
    }
   ],
   "source": [
    "g_prime"
   ]
  },
  {
   "cell_type": "code",
   "execution_count": 51,
   "metadata": {},
   "outputs": [
    {
     "data": {
      "text/latex": [
       "$\\displaystyle - e^{2 x} \\sin{\\left(x \\right)} + 2 e^{2 x} \\cos{\\left(x \\right)}$"
      ],
      "text/plain": [
       "-exp(2*x)*sin(x) + 2*exp(2*x)*cos(x)"
      ]
     },
     "execution_count": 51,
     "metadata": {},
     "output_type": "execute_result"
    }
   ],
   "source": [
    "h_prime"
   ]
  },
  {
   "attachments": {},
   "cell_type": "markdown",
   "metadata": {},
   "source": [
    "## Problem 2\n",
    "Symbolic Integration\n",
    "\n",
    "Find the indefinite integral of the following functions using Sympy as np:\n",
    "\n"
   ]
  },
  {
   "attachments": {},
   "cell_type": "markdown",
   "metadata": {},
   "source": [
    "$a) f(x) = 2x + 5$"
   ]
  },
  {
   "cell_type": "code",
   "execution_count": 52,
   "metadata": {},
   "outputs": [
    {
     "data": {
      "text/latex": [
       "$\\displaystyle x^{2} + 5 x$"
      ],
      "text/plain": [
       "x**2 + 5*x"
      ]
     },
     "execution_count": 52,
     "metadata": {},
     "output_type": "execute_result"
    }
   ],
   "source": [
    "\n",
    "f = 2*x + 5\n",
    "sp.integrate(f)"
   ]
  },
  {
   "attachments": {},
   "cell_type": "markdown",
   "metadata": {},
   "source": [
    "$b) g(x) = 1/(x^2+1)$\n"
   ]
  },
  {
   "cell_type": "code",
   "execution_count": 53,
   "metadata": {},
   "outputs": [
    {
     "data": {
      "text/latex": [
       "$\\displaystyle \\operatorname{atan}{\\left(x \\right)}$"
      ],
      "text/plain": [
       "atan(x)"
      ]
     },
     "execution_count": 53,
     "metadata": {},
     "output_type": "execute_result"
    }
   ],
   "source": [
    "\n",
    "g = 1/(x**2+1)\n",
    "sp.integrate(g)"
   ]
  },
  {
   "attachments": {},
   "cell_type": "markdown",
   "metadata": {},
   "source": [
    "$c) h(x) = (x^3)/3 − 2x^2 + 5x − 7$\n"
   ]
  },
  {
   "cell_type": "code",
   "execution_count": 54,
   "metadata": {},
   "outputs": [
    {
     "data": {
      "text/latex": [
       "$\\displaystyle \\frac{x^{4}}{12} - \\frac{2 x^{3}}{3} + \\frac{5 x^{2}}{2} - 7 x$"
      ],
      "text/plain": [
       "x**4/12 - 2*x**3/3 + 5*x**2/2 - 7*x"
      ]
     },
     "execution_count": 54,
     "metadata": {},
     "output_type": "execute_result"
    }
   ],
   "source": [
    "h = (x**3)/3 - 2*x**2 + 5*x - 7\n",
    "sp.integrate(h)"
   ]
  },
  {
   "attachments": {},
   "cell_type": "markdown",
   "metadata": {},
   "source": [
    "## Problem 3\n",
    "Solving Equations\n",
    "\n",
    "Solve the following equations using Sympy:\n",
    "\n",
    "(a) $x^2 − 3x + 2 = 0$\n",
    "\n",
    "(b) $e^x + x − 1 = 0$\n",
    "\n",
    "(c) $cos(x) = 1/2$\n"
   ]
  },
  {
   "cell_type": "code",
   "execution_count": 55,
   "metadata": {},
   "outputs": [
    {
     "data": {
      "text/plain": [
       "[1, 2]"
      ]
     },
     "execution_count": 55,
     "metadata": {},
     "output_type": "execute_result"
    }
   ],
   "source": [
    "\n",
    "# (a) x^2 − 3x + 2 = 0\n",
    "eq1 = x**2 - 3*x + 2\n",
    "sol1 = sp.solve(eq1, x)\n",
    "sol1\n"
   ]
  },
  {
   "cell_type": "code",
   "execution_count": 56,
   "metadata": {},
   "outputs": [
    {
     "data": {
      "text/plain": [
       "[0]"
      ]
     },
     "execution_count": 56,
     "metadata": {},
     "output_type": "execute_result"
    }
   ],
   "source": [
    "# (b) e^x + x − 1 = 0\n",
    "eq2 = sp.exp(x) + x - 1\n",
    "sol2 = sp.solve(eq2, x)\n",
    "sol2\n"
   ]
  },
  {
   "cell_type": "code",
   "execution_count": 57,
   "metadata": {},
   "outputs": [
    {
     "data": {
      "text/plain": [
       "[1.04719755119660, 5.23598775598299]"
      ]
     },
     "execution_count": 57,
     "metadata": {},
     "output_type": "execute_result"
    }
   ],
   "source": [
    "# (c) cos(x) = 1/2\n",
    "eq3 = sp.cos(x) - 1/2\n",
    "sol3 = sp.solve(eq3, x)\n",
    "sol3"
   ]
  },
  {
   "attachments": {},
   "cell_type": "markdown",
   "metadata": {},
   "source": [
    "## Problem 4\n",
    "Advanced Sympy\n",
    "\n",
    "Use Sympy to find the first 10 terms of the Fourier series of the following function over the interval [−π, π]:\n",
    "\n",
    "$f(x) = { 0, −π ≤ x < 0 }$ \n",
    "\n",
    "$f(x) = { 1, 0 ≤ x < π }$"
   ]
  },
  {
   "cell_type": "code",
   "execution_count": 67,
   "metadata": {},
   "outputs": [],
   "source": [
    "from sympy import fourier_series, pi\n",
    "from sympy.abc import x\n"
   ]
  },
  {
   "cell_type": "code",
   "execution_count": 68,
   "metadata": {},
   "outputs": [
    {
     "data": {
      "text/latex": [
       "$\\displaystyle \\frac{2 \\sin{\\left(x \\right)}}{\\pi} + \\frac{2 \\sin{\\left(3 x \\right)}}{3 \\pi} + \\frac{2 \\sin{\\left(5 x \\right)}}{5 \\pi} + \\frac{2 \\sin{\\left(7 x \\right)}}{7 \\pi} + \\frac{2 \\sin{\\left(9 x \\right)}}{9 \\pi} + \\frac{2 \\sin{\\left(11 x \\right)}}{11 \\pi} + \\frac{2 \\sin{\\left(13 x \\right)}}{13 \\pi} + \\frac{2 \\sin{\\left(15 x \\right)}}{15 \\pi} + \\frac{2 \\sin{\\left(17 x \\right)}}{17 \\pi} + \\frac{1}{2}$"
      ],
      "text/plain": [
       "2*sin(x)/pi + 2*sin(3*x)/(3*pi) + 2*sin(5*x)/(5*pi) + 2*sin(7*x)/(7*pi) + 2*sin(9*x)/(9*pi) + 2*sin(11*x)/(11*pi) + 2*sin(13*x)/(13*pi) + 2*sin(15*x)/(15*pi) + 2*sin(17*x)/(17*pi) + 1/2"
      ]
     },
     "execution_count": 68,
     "metadata": {},
     "output_type": "execute_result"
    }
   ],
   "source": [
    "x = sp.Symbol('x')\n",
    "f_x = Piecewise(\n",
    "    (0, (-pi <= x) & (x < 0)),\n",
    "    (1, (0 <= x) & (x < pi))\n",
    "    )\n",
    "fourier_series = fourier_series(f_x, (x, -pi, pi))\n",
    "fourier_series.truncate(10)"
   ]
  },
  {
   "attachments": {},
   "cell_type": "markdown",
   "metadata": {},
   "source": [
    "## Problem 5\n",
    "Application of Sympy (Bonus Question)\n",
    "\n",
    "Use Sympy to solve the following problem:\n",
    "\n",
    "A particle moves along the x-axis according to the equation $x = 3 sin(t) − 4 sin(2t)$, where $t$ is time. Find the velocity and acceleration of the particle as functions of time."
   ]
  },
  {
   "cell_type": "code",
   "execution_count": 69,
   "metadata": {},
   "outputs": [],
   "source": [
    "#define f(x)\n",
    "t = sp.Symbol('t')\n",
    "f_x = 3*sin(t) - 4*sin(2*t)"
   ]
  },
  {
   "attachments": {},
   "cell_type": "markdown",
   "metadata": {},
   "source": [
    "the velocity function :\n"
   ]
  },
  {
   "cell_type": "code",
   "execution_count": 70,
   "metadata": {},
   "outputs": [
    {
     "data": {
      "text/latex": [
       "$\\displaystyle 3 \\cos{\\left(t \\right)} - 8 \\cos{\\left(2 t \\right)}$"
      ],
      "text/plain": [
       "3*cos(t) - 8*cos(2*t)"
      ]
     },
     "execution_count": 70,
     "metadata": {},
     "output_type": "execute_result"
    }
   ],
   "source": [
    "veloc_x = f_x.diff()\n",
    "veloc_x"
   ]
  },
  {
   "attachments": {},
   "cell_type": "markdown",
   "metadata": {},
   "source": [
    "the accelerationfunction :"
   ]
  },
  {
   "cell_type": "code",
   "execution_count": 71,
   "metadata": {},
   "outputs": [
    {
     "data": {
      "text/latex": [
       "$\\displaystyle - 3 \\sin{\\left(t \\right)} + 16 \\sin{\\left(2 t \\right)}$"
      ],
      "text/plain": [
       "-3*sin(t) + 16*sin(2*t)"
      ]
     },
     "execution_count": 71,
     "metadata": {},
     "output_type": "execute_result"
    }
   ],
   "source": [
    "acce_x = veloc_x.diff()\n",
    "acce_x"
   ]
  }
 ],
 "metadata": {
  "kernelspec": {
   "display_name": "Python 3",
   "language": "python",
   "name": "python3"
  },
  "language_info": {
   "codemirror_mode": {
    "name": "ipython",
    "version": 3
   },
   "file_extension": ".py",
   "mimetype": "text/x-python",
   "name": "python",
   "nbconvert_exporter": "python",
   "pygments_lexer": "ipython3",
   "version": "3.10.10"
  },
  "orig_nbformat": 4,
  "vscode": {
   "interpreter": {
    "hash": "a0e4d50838a237280a9d712c48dc9b7923298659ee07e7a2461a953b682a8d53"
   }
  }
 },
 "nbformat": 4,
 "nbformat_minor": 2
}
