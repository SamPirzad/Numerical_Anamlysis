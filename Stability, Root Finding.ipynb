{
 "cells": [
  {
   "attachments": {},
   "cell_type": "markdown",
   "metadata": {},
   "source": [
    "# Stability, Root Finding\n",
    "__Author__ : Mohammad H. Langarizadeh\n",
    "\n",
    "__Student ID__ : 99222120\n",
    "\n",
    "__Course__ : Undergraduate Numerical Analysis Course"
   ]
  },
  {
   "attachments": {},
   "cell_type": "markdown",
   "metadata": {},
   "source": [
    "## First Question:\n",
    "Prove by induction that first algorithm and second algorithm creates same sequences:\n",
    "\n",
    "First Algorithm:\n",
    "\n",
    "$x_0 = 1$\n",
    "\n",
    "$x_1 = 1/3$\n",
    "\n",
    "$x_{n+1} = (13/3)x_n - (4/3)x_{n-1} $"
   ]
  },
  {
   "attachments": {},
   "cell_type": "markdown",
   "metadata": {},
   "source": [
    "Second Algorithm:\n",
    "\n",
    "$ x_n = {1/3}^n $\n",
    "\n",
    "$ n = 0, 1, 2, ... $"
   ]
  },
  {
   "cell_type": "code",
   "execution_count": 1,
   "metadata": {},
   "outputs": [
    {
     "name": "stdout",
     "output_type": "stream",
     "text": [
      "n = 0: seq1[0] = 1.0000000, seq2[0] = 1.0000000, equal = True\n",
      "n = 1: seq1[1] = 0.3333333, seq2[1] = 0.3333333, equal = True\n",
      "n = 2: seq1[2] = 0.1111111, seq2[2] = 0.1111111, equal = False\n",
      "n = 3: seq1[3] = 0.0370370, seq2[3] = 0.0370370, equal = False\n",
      "n = 4: seq1[4] = 0.0123457, seq2[4] = 0.0123457, equal = False\n",
      "n = 5: seq1[5] = 0.0041152, seq2[5] = 0.0041152, equal = False\n",
      "n = 6: seq1[6] = 0.0013717, seq2[6] = 0.0013717, equal = False\n",
      "n = 7: seq1[7] = 0.0004572, seq2[7] = 0.0004572, equal = False\n",
      "n = 8: seq1[8] = 0.0001524, seq2[8] = 0.0001524, equal = False\n",
      "n = 9: seq1[9] = 0.0000508, seq2[9] = 0.0000508, equal = False\n",
      "n = 10: seq1[10] = 0.0000169, seq2[10] = 0.0000169, equal = False\n",
      "n = 11: seq1[11] = 0.0000056, seq2[11] = 0.0000056, equal = False\n",
      "n = 12: seq1[12] = 0.0000019, seq2[12] = 0.0000019, equal = False\n",
      "n = 13: seq1[13] = 0.0000006, seq2[13] = 0.0000006, equal = False\n",
      "n = 14: seq1[14] = 0.0000002, seq2[14] = 0.0000002, equal = False\n"
     ]
    }
   ],
   "source": [
    "# First algorithm\n",
    "x0 = 1\n",
    "x1 = 1/3\n",
    "seq1 = [x0, x1]\n",
    "for n in range(1, 14):\n",
    "    xn = (13/3)*seq1[n] - (4/3)*seq1[n-1]\n",
    "    seq1.append(xn)\n",
    "    \n",
    "# Second algorithm\n",
    "seq2 = [1]\n",
    "for n in range(1, 15):\n",
    "    xn = (1/3)**n\n",
    "    seq2.append(xn)\n",
    "    \n",
    "# Compare sequences\n",
    "for n in range(15):\n",
    "    print(f\"n = {n}: seq1[{n}] = {seq1[n]:.7f}, seq2[{n}] = {seq2[n]:.7f}, equal = {seq1[n] == seq2[n]}\")\n"
   ]
  },
  {
   "attachments": {},
   "cell_type": "markdown",
   "metadata": {},
   "source": [
    "## Second Question:\n",
    "Compute sequences for both algorithm for 15 terms with 7 float point precision."
   ]
  },
  {
   "cell_type": "code",
   "execution_count": 2,
   "metadata": {},
   "outputs": [],
   "source": [
    "# set precision to 7 decimal places\n",
    "import decimal\n",
    "decimal.getcontext().prec = 7"
   ]
  },
  {
   "cell_type": "code",
   "execution_count": 3,
   "metadata": {},
   "outputs": [],
   "source": [
    "def first_algorithm(n):\n",
    "    x = [1, 1/3]\n",
    "    for i in range(1, n-1):\n",
    "        x.append((13/3)*x[i] - (4/3)*x[i-1])\n",
    "    return x\n"
   ]
  },
  {
   "cell_type": "code",
   "execution_count": 4,
   "metadata": {},
   "outputs": [
    {
     "name": "stdout",
     "output_type": "stream",
     "text": [
      "First Algorithm:  [Decimal('1'), Decimal('0.3333333333333333'), Decimal('0.11111111111111094'), Decimal('0.03703703703703626'), Decimal('0.012345679012342514'), Decimal('0.004115226337435884'), Decimal('0.0013717421124321456'), Decimal('0.00045724737062478524'), Decimal('0.00015241578946454185'), Decimal('0.000050805260179967644'), Decimal('0.000016935074827137338'), Decimal('0.000005644977344304949'), Decimal('0.0000018814687224716613'), Decimal('6.263946716372672E-7'), Decimal('2.0575194713260943E-7')]\n"
     ]
    }
   ],
   "source": [
    "# compute first 15 terms of both algorithms\n",
    "x = first_algorithm(15)\n",
    "\n",
    "# print results\n",
    "print(\"First Algorithm: \", [decimal.Decimal(str(i)) for i in x])\n"
   ]
  },
  {
   "cell_type": "code",
   "execution_count": 5,
   "metadata": {},
   "outputs": [],
   "source": [
    "def second_algorithm(n):\n",
    "    y = [(1/3)**i for i in range(n)]\n",
    "    return y\n"
   ]
  },
  {
   "cell_type": "code",
   "execution_count": 6,
   "metadata": {},
   "outputs": [
    {
     "name": "stdout",
     "output_type": "stream",
     "text": [
      "Second Algorithm: [Decimal('1.0'), Decimal('0.3333333333333333'), Decimal('0.1111111111111111'), Decimal('0.03703703703703703'), Decimal('0.012345679012345677'), Decimal('0.004115226337448558'), Decimal('0.0013717421124828527'), Decimal('0.00045724737082761756'), Decimal('0.0001524157902758725'), Decimal('0.000050805263425290837'), Decimal('0.00001693508780843028'), Decimal('0.000005645029269476759'), Decimal('0.0000018816764231589195'), Decimal('6.272254743863065E-7'), Decimal('2.090751581287688E-7')]\n"
     ]
    }
   ],
   "source": [
    "# compute first 15 terms of both algorithms\n",
    "y = second_algorithm(15)\n",
    "\n",
    "# print results\n",
    "print(\"Second Algorithm:\", [decimal.Decimal(str(i)) for i in y])\n"
   ]
  },
  {
   "attachments": {},
   "cell_type": "markdown",
   "metadata": {},
   "source": [
    "## Third Question:\n",
    "In this questions we want to compute $ I_n = \\int_{0}^{1} x^n e^x dx $. Write a recursive equation for computation\n",
    "with respect to part by part integration method. Compute all these integrals with your suggested\n",
    "recursive equation for $ n = 0, 1, ... $"
   ]
  },
  {
   "cell_type": "code",
   "execution_count": 15,
   "metadata": {},
   "outputs": [],
   "source": [
    "def reqursive_equation(n):\n",
    "    if n == 0:\n",
    "        return np.exp(1) - 1\n",
    "        \n",
    "    return np.exp(1) - n * reqursive_equation(n - 1)\n"
   ]
  },
  {
   "cell_type": "code",
   "execution_count": 16,
   "metadata": {},
   "outputs": [
    {
     "name": "stdout",
     "output_type": "stream",
     "text": [
      "1.718282\n",
      "1.000000\n",
      "0.718282\n",
      "0.563436\n",
      "0.464536\n",
      "0.395600\n",
      "0.344685\n",
      "0.305490\n",
      "0.274362\n",
      "0.249028\n",
      "0.228002\n",
      "0.210265\n",
      "0.195100\n",
      "0.181983\n",
      "0.170519\n",
      "0.160496\n"
     ]
    }
   ],
   "source": [
    "for i in range(16):\n",
    "    ans = reqursive_equation(i)\n",
    "    print('{:.6f}'.format(ans))"
   ]
  },
  {
   "attachments": {},
   "cell_type": "markdown",
   "metadata": {},
   "source": [
    "## Fourth Question:\n",
    "Solve following equation by Bisection, False Position, Newton and Improved Newton methods with\n",
    "threshold $|f(xn)| < 10^{−16}$ with $20$ precise floating point.(a and b are arbitrary)\n",
    "\n",
    "$x + cos x = 0$"
   ]
  },
  {
   "cell_type": "code",
   "execution_count": 18,
   "metadata": {},
   "outputs": [],
   "source": [
    "import math\n",
    "\n",
    "# Define the function f(x) = x + cos(x)\n",
    "def f(x):\n",
    "    return x + math.cos(x)\n",
    "\n",
    "# Define the derivative of the function f(x)\n",
    "def df(x):\n",
    "    return 1 - math.sin(x)\n",
    "\n",
    "# Set the initial values for a and b\n",
    "a = -2\n",
    "b = 2\n"
   ]
  },
  {
   "attachments": {},
   "cell_type": "markdown",
   "metadata": {},
   "source": [
    " bisection method"
   ]
  },
  {
   "cell_type": "code",
   "execution_count": 19,
   "metadata": {},
   "outputs": [],
   "source": [
    "# Define the bisection method\n",
    "def bisection(a, b):\n",
    "    fa = f(a)\n",
    "    fb = f(b)\n",
    "    if fa * fb > 0:\n",
    "        return None\n",
    "    while abs(b - a) > 1e-20:\n",
    "        c = (a + b) / 2\n",
    "        fc = f(c)\n",
    "        if fc == 0:\n",
    "            return c\n",
    "        if fa * fc < 0:\n",
    "            b = c\n",
    "            fb = fc\n",
    "        else:\n",
    "            a = c\n",
    "            fa = fc\n",
    "    return (a + b) / 2\n"
   ]
  },
  {
   "cell_type": "code",
   "execution_count": 20,
   "metadata": {},
   "outputs": [
    {
     "name": "stdout",
     "output_type": "stream",
     "text": [
      "Bisection method: -0.73908513321516067229\n"
     ]
    }
   ],
   "source": [
    "# Use the bisection method to solve the equation\n",
    "print(\"Bisection method:\", format(bisection(a, b), \".20f\"))\n"
   ]
  },
  {
   "attachments": {},
   "cell_type": "markdown",
   "metadata": {},
   "source": [
    "false position method"
   ]
  },
  {
   "cell_type": "code",
   "execution_count": 21,
   "metadata": {},
   "outputs": [],
   "source": [
    "# Define the false position method\n",
    "def false_position(a, b):\n",
    "    fa = f(a)\n",
    "    fb = f(b)\n",
    "    if fa * fb > 0:\n",
    "        return None\n",
    "    while abs(b - a) > 1e-20:\n",
    "        c = (a * fb - b * fa) / (fb - fa)\n",
    "        fc = f(c)\n",
    "        if fc == 0:\n",
    "            return c\n",
    "        if fa * fc < 0:\n",
    "            b = c\n",
    "            fb = fc\n",
    "        else:\n",
    "            a = c\n",
    "            fa = fc\n",
    "    return (a * fb - b * fa) / (fb - fa)\n"
   ]
  },
  {
   "cell_type": "code",
   "execution_count": 22,
   "metadata": {},
   "outputs": [
    {
     "name": "stdout",
     "output_type": "stream",
     "text": [
      "False position method: -0.73908513321516067229\n"
     ]
    }
   ],
   "source": [
    "# Use the false position method to solve the equation\n",
    "print(\"False position method:\", format(false_position(a, b), \".20f\"))\n"
   ]
  },
  {
   "attachments": {},
   "cell_type": "markdown",
   "metadata": {},
   "source": [
    "Newton method"
   ]
  },
  {
   "cell_type": "code",
   "execution_count": 23,
   "metadata": {},
   "outputs": [],
   "source": [
    "# Define the Newton method\n",
    "def newton(x):\n",
    "    while abs(f(x)) > 1e-16:\n",
    "        x = x - f(x) / df(x)\n",
    "    return x\n"
   ]
  },
  {
   "cell_type": "code",
   "execution_count": 24,
   "metadata": {},
   "outputs": [
    {
     "name": "stdout",
     "output_type": "stream",
     "text": [
      "Newton method: -0.73908513321516067229\n"
     ]
    }
   ],
   "source": [
    "# Use the Newton method to solve the equation\n",
    "print(\"Newton method:\", format(newton(a), \".20f\"))\n"
   ]
  },
  {
   "attachments": {},
   "cell_type": "markdown",
   "metadata": {},
   "source": [
    "improved Newton method"
   ]
  },
  {
   "cell_type": "code",
   "execution_count": 25,
   "metadata": {},
   "outputs": [],
   "source": [
    "# Define the improved Newton method\n",
    "def improved_newton(x):\n",
    "    while abs(f(x)) > 1e-16:\n",
    "        x = x - 2 * f(x) / (df(x) + math.sqrt(df(x) ** 2 - 2 * f(x) * df(df(x))))\n",
    "    return x\n"
   ]
  },
  {
   "cell_type": "code",
   "execution_count": 26,
   "metadata": {},
   "outputs": [
    {
     "name": "stdout",
     "output_type": "stream",
     "text": [
      "Improved Newton method: -0.73908513321516067229\n"
     ]
    }
   ],
   "source": [
    "# Use the improved Newton method to solve the equation\n",
    "print(\"Improved Newton method:\", format(improved_newton(a), \".20f\"))\n"
   ]
  },
  {
   "attachments": {},
   "cell_type": "markdown",
   "metadata": {},
   "source": [
    "## Fifth Question:\n",
    "Find roots of following equation:\n",
    "\n",
    "$ xe^x-5= $\n",
    "\n"
   ]
  },
  {
   "cell_type": "code",
   "execution_count": 28,
   "metadata": {},
   "outputs": [
    {
     "name": "stdout",
     "output_type": "stream",
     "text": [
      "The root of the equation xe^x - 5 = 0 is 1.32672466524220022954.\n"
     ]
    }
   ],
   "source": [
    "def bisection(f, a, b, tol=1e-20):\n",
    "    \"\"\"\n",
    "    Find a root of the function f in the interval [a, b] using the bisection method.\n",
    "    \"\"\"\n",
    "    fa = f(a)\n",
    "    fb = f(b)\n",
    "    \n",
    "    if fa*fb > 0:\n",
    "        raise ValueError(\"Function has same sign at both endpoints of interval.\")\n",
    "    \n",
    "    while abs(b - a) > tol:\n",
    "        c = (a + b)/2\n",
    "        fc = f(c)\n",
    "        \n",
    "        if fc == 0:\n",
    "            return c\n",
    "        \n",
    "        if fa*fc < 0:\n",
    "            b = c\n",
    "            fb = fc\n",
    "        else:\n",
    "            a = c\n",
    "            fa = fc\n",
    "    \n",
    "    return (a + b)/2\n",
    "\n",
    "def f(x):\n",
    "    return x*math.exp(x) - 5\n",
    "\n",
    "# Find a root of the function using the bisection method\n",
    "root = bisection(f, 0, 2)\n",
    "print(f\"The root of the equation xe^x - 5 = 0 is {root:.20f}.\")\n"
   ]
  }
 ],
 "metadata": {
  "kernelspec": {
   "display_name": "Python 3",
   "language": "python",
   "name": "python3"
  },
  "language_info": {
   "codemirror_mode": {
    "name": "ipython",
    "version": 3
   },
   "file_extension": ".py",
   "mimetype": "text/x-python",
   "name": "python",
   "nbconvert_exporter": "python",
   "pygments_lexer": "ipython3",
   "version": "3.10.10"
  },
  "orig_nbformat": 4,
  "vscode": {
   "interpreter": {
    "hash": "a0e4d50838a237280a9d712c48dc9b7923298659ee07e7a2461a953b682a8d53"
   }
  }
 },
 "nbformat": 4,
 "nbformat_minor": 2
}
