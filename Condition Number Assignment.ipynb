{
 "cells": [
  {
   "attachments": {},
   "cell_type": "markdown",
   "metadata": {},
   "source": [
    "# Condition Number Assignment\n",
    "__Author__ : Mohammad H. Langarizadeh\n",
    "\n",
    "__Student ID__ : 99222120\n",
    "\n",
    "__Course__ : Undergraduate Numerical Analysis Course"
   ]
  },
  {
   "cell_type": "code",
   "execution_count": 1,
   "metadata": {},
   "outputs": [],
   "source": [
    "import numpy as np\n",
    "import pandas as pd\n",
    "import matplotlib.pyplot as plt\n",
    "from sympy import *"
   ]
  },
  {
   "attachments": {},
   "cell_type": "markdown",
   "metadata": {},
   "source": [
    "Calculate condition numbers for given functions in given points:\n"
   ]
  },
  {
   "attachments": {},
   "cell_type": "markdown",
   "metadata": {},
   "source": [
    "A) $f(x) = ln x, x ≈ 2$"
   ]
  },
  {
   "cell_type": "code",
   "execution_count": 3,
   "metadata": {},
   "outputs": [
    {
     "data": {
      "text/latex": [
       "$\\displaystyle \\frac{1}{\\log{\\left(2 \\right)}}$"
      ],
      "text/plain": [
       "1/log(2)"
      ]
     },
     "execution_count": 3,
     "metadata": {},
     "output_type": "execute_result"
    }
   ],
   "source": [
    "x = symbols('x')\n",
    "f = ln(x)\n",
    "diff = f.diff(x)\n",
    "result = diff.subs(x, 2) / f.subs(x, 2) * 2\n",
    "result"
   ]
  },
  {
   "attachments": {},
   "cell_type": "markdown",
   "metadata": {},
   "source": [
    "B) $f(x) = 5^x, x ≈ 10$"
   ]
  },
  {
   "cell_type": "code",
   "execution_count": 4,
   "metadata": {},
   "outputs": [
    {
     "data": {
      "text/latex": [
       "$\\displaystyle 10 \\log{\\left(5 \\right)}$"
      ],
      "text/plain": [
       "10*log(5)"
      ]
     },
     "execution_count": 4,
     "metadata": {},
     "output_type": "execute_result"
    }
   ],
   "source": [
    "x = symbols('x')\n",
    "f = 5 ** x\n",
    "diff = f.diff(x)\n",
    "result = (diff.subs(x, 10) / f.subs(x, 10) * 10)\n",
    "result"
   ]
  },
  {
   "attachments": {},
   "cell_type": "markdown",
   "metadata": {},
   "source": [
    "C) $f(x) = sin(x), x ≈ 1$"
   ]
  },
  {
   "cell_type": "code",
   "execution_count": 5,
   "metadata": {},
   "outputs": [
    {
     "data": {
      "text/latex": [
       "$\\displaystyle \\frac{\\cos{\\left(1 \\right)}}{\\sin{\\left(1 \\right)}}$"
      ],
      "text/plain": [
       "cos(1)/sin(1)"
      ]
     },
     "execution_count": 5,
     "metadata": {},
     "output_type": "execute_result"
    }
   ],
   "source": [
    "x = symbols('x')\n",
    "f = sin(x)\n",
    "diff = f.diff(x)\n",
    "result = (diff.subs(x, 1) / f.subs(x, 1) * 1)\n",
    "result "
   ]
  },
  {
   "attachments": {},
   "cell_type": "markdown",
   "metadata": {},
   "source": [
    "D) $f(x) = sin(10x), x ≈ 1$"
   ]
  },
  {
   "cell_type": "code",
   "execution_count": 6,
   "metadata": {},
   "outputs": [
    {
     "data": {
      "text/latex": [
       "$\\displaystyle \\frac{10 \\cos{\\left(10 \\right)}}{\\sin{\\left(10 \\right)}}$"
      ],
      "text/plain": [
       "10*cos(10)/sin(10)"
      ]
     },
     "execution_count": 6,
     "metadata": {},
     "output_type": "execute_result"
    }
   ],
   "source": [
    "x = symbols('x')\n",
    "f = sin(10 * x)\n",
    "diff = f.diff(x)\n",
    "result = (diff.subs(x, 1) / f.subs(x, 1) * 1)\n",
    "result "
   ]
  }
 ],
 "metadata": {
  "kernelspec": {
   "display_name": "Python 3",
   "language": "python",
   "name": "python3"
  },
  "language_info": {
   "codemirror_mode": {
    "name": "ipython",
    "version": 3
   },
   "file_extension": ".py",
   "mimetype": "text/x-python",
   "name": "python",
   "nbconvert_exporter": "python",
   "pygments_lexer": "ipython3",
   "version": "3.10.10"
  },
  "orig_nbformat": 4,
  "vscode": {
   "interpreter": {
    "hash": "a0e4d50838a237280a9d712c48dc9b7923298659ee07e7a2461a953b682a8d53"
   }
  }
 },
 "nbformat": 4,
 "nbformat_minor": 2
}
