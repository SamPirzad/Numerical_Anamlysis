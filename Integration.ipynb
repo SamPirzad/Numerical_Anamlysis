{
 "cells": [
  {
   "attachments": {},
   "cell_type": "markdown",
   "metadata": {},
   "source": [
    "# Integration\n",
    "__Author__ : Mohammad H. Langarizadeh\n",
    "\n",
    "__Student ID__ : 99222120\n",
    "\n",
    "__Course__ : Undergraduate Numerical Analysis Course"
   ]
  },
  {
   "attachments": {},
   "cell_type": "markdown",
   "metadata": {},
   "source": [
    "## Problem 1\n",
    "In Newton-Raphson methods, $int_{a}^{b} f(x)dx = sum w_jf(x_j)$. That means we consider integral equals by weighted sum of function $f$ in same distance points $x_j$ which are determined and we only need to determine weights\n",
    "\n",
    "Consider $x_j$ s as variable, for polynomials with degree zero and one calculate formula in template of $int_{-1}^{1} f(x)dx = w_1f(x)$ to achive highest precision\n"
   ]
  },
  {
   "attachments": {},
   "cell_type": "markdown",
   "metadata": {},
   "source": [
    "### Answer\n",
    "Because we only want to approximate with one point, we choose the middle point of the interval, that is, $x_1 = 0$\n",
    "$$\n",
    "    \\begin{cases}\n",
    "          f(x) = 1 \\Rightarrow w_1 \\times 1 = \\int_{-1}^{1} 1dx = 2\\\\\n",
    "          f(x) = x \\Rightarrow w_1 \\times x_1 = \\int_{-1}^{1} xdx = 0\\\\\n",
    "    \\end{cases}\n",
    "$$\n",
    "$$\n",
    "\\Rightarrow\n",
    "    \\begin{cases}\n",
    "          w_1 \\times 1 = 2\\\\\n",
    "          w_1 \\times 0 = 0\\\\\n",
    "    \\end{cases}\n",
    "$$\n",
    "$$\n",
    "\\Rightarrow\n",
    "    w_1 = 2\n",
    "$$"
   ]
  },
  {
   "attachments": {},
   "cell_type": "markdown",
   "metadata": {},
   "source": [
    "## Problem 2\n",
    "Solve previous question for two points. $\\int_{-1}^{1} f(x)dx \\approx w_1f(x_1) + w_2f(x_2)$."
   ]
  },
  {
   "attachments": {},
   "cell_type": "markdown",
   "metadata": {},
   "source": [
    "### Answer\n",
    "Because we only want to approximate with two points, we choose the beginning and end points of the interval, that is $x_1 = -1 , x_2 = 1$\n",
    "$$\n",
    "    \\begin{cases}\n",
    "        f(x) = 1 \\Rightarrow w_1 \\times 1 + w_2 \\times 1 = \\int_{-1}^{1} 1dx = 2\\\\\n",
    "        f(x) = x \\Rightarrow w_1 \\times x_1 + w_2 \\times x_2 = \\int_{-1}^{1} xdx = 0\\\\\n",
    "    \\end{cases}\n",
    "$$\n",
    "$$\n",
    "\\Rightarrow\n",
    "    \\begin{cases}\n",
    "      w_1 \\times 1 + w_2 \\times 1 = 2\\\\\n",
    "      w_1 \\times (-1) + w_2 \\times 1 = 0\\\\\n",
    "    \\end{cases}\n",
    "$$\n",
    "$$\n",
    "\\Rightarrow\n",
    "    \\begin{cases}\n",
    "      w_1 + w_2 = 2\\\\\n",
    "      -w_1 + w_2 = 0\\\\\n",
    "    \\end{cases}\n",
    "$$\n",
    "$$\n",
    "\\Rightarrow\n",
    "    w_1 = w_2 = 1\n",
    "$$"
   ]
  }
 ],
 "metadata": {
  "kernelspec": {
   "display_name": "Python 3",
   "language": "python",
   "name": "python3"
  },
  "language_info": {
   "codemirror_mode": {
    "name": "ipython",
    "version": 3
   },
   "file_extension": ".py",
   "mimetype": "text/x-python",
   "name": "python",
   "nbconvert_exporter": "python",
   "pygments_lexer": "ipython3",
   "version": "3.10.10"
  },
  "orig_nbformat": 4,
  "vscode": {
   "interpreter": {
    "hash": "a0e4d50838a237280a9d712c48dc9b7923298659ee07e7a2461a953b682a8d53"
   }
  }
 },
 "nbformat": 4,
 "nbformat_minor": 2
}
